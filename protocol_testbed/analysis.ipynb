{
 "cells": [
  {
   "cell_type": "code",
   "execution_count": 52,
   "metadata": {
    "collapsed": false
   },
   "outputs": [
    {
     "name": "stdout",
     "output_type": "stream",
     "text": [
      "ftp_testSMALL_2015-09-25_19:52:34.dump\n",
      "gridftp_testSMALL_2015-09-25_19:52:34.dump\n",
      "scp_testSMALL_2015-09-25_19:52:34.dump\n"
     ]
    }
   ],
   "source": [
    "from helpers import get_dump_fnames\n",
    "import json\n",
    "import pandas as pd\n",
    "\n",
    "PROTOCOLS = [\"scp\", \"ftp\", \"gridftp\"]\n",
    "N = None\n",
    "\n",
    "fnames = get_dump_fnames(protocols=PROTOCOLS, n=N)\n",
    "dumps = []\n",
    "\n",
    "for fname in fnames:\n",
    "    print fname\n",
    "    with open(\"packet_dumps/%s\" % fname) as f:\n",
    "        dumps.append(json.load(f))"
   ]
  },
  {
   "cell_type": "code",
   "execution_count": 54,
   "metadata": {
    "collapsed": false
   },
   "outputs": [
    {
     "name": "stdout",
     "output_type": "stream",
     "text": [
      "  Protocol  File Size  Bytes Down  Bytes Up  Bytes Total      Time\n",
      "0      ftp          6        3317      4129         7446  6.686007\n",
      "1  gridftp          6        3911      4145         8056  5.847363\n",
      "2      scp          6        2745      3633         6378  3.675025\n"
     ]
    }
   ],
   "source": [
    "df = pd.DataFrame(dumps)\n",
    "df.drop([\"host_from\", \"host_to\", \"packets\", \"utc_start_time\"], axis=1, inplace=True)\n",
    "df = df[[u\"protocol\", u\"file_size\", u\"bytes_down\", u\"bytes_up\", u\"bytes_total\", u\"time\"]] \n",
    "\n",
    "# Rename the columns\n",
    "df.columns = [\"Protocol\", \"File Size\", \"Bytes Down\", \"Bytes Up\", \"Bytes Total\", \"Time\"]\n",
    "\n",
    "print df"
   ]
  },
  {
   "cell_type": "code",
   "execution_count": null,
   "metadata": {
    "collapsed": true
   },
   "outputs": [],
   "source": []
  }
 ],
 "metadata": {
  "kernelspec": {
   "display_name": "Python 2",
   "language": "python",
   "name": "python2"
  },
  "language_info": {
   "codemirror_mode": {
    "name": "ipython",
    "version": 2
   },
   "file_extension": ".py",
   "mimetype": "text/x-python",
   "name": "python",
   "nbconvert_exporter": "python",
   "pygments_lexer": "ipython2",
   "version": "2.7.9"
  }
 },
 "nbformat": 4,
 "nbformat_minor": 0
}
